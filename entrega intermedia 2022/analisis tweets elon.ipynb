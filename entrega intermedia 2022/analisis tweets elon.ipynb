{
 "cells": [
  {
   "cell_type": "markdown",
   "id": "f20e661a-3a08-48ef-b7c5-1abd08edfe41",
   "metadata": {
    "tags": []
   },
   "source": [
    "# Elon Tweets"
   ]
  },
  {
   "cell_type": "markdown",
   "id": "d54b2652-7651-40a7-ae47-59cd37c136f6",
   "metadata": {},
   "source": [
    "Preguntas: ¿Cuál fue el tweet mas gustado de Elon desde 2015 a lo que va de 2022 (4/2022)?, ¿el mas compartido? y ¿el que mas respuestas tuvo? ¿qué nos dice la hora de publicacion de sus tweets sobre su vida diaria?, ¿existe relación entre sus tweets y crecimiento de cripto?"
   ]
  },
  {
   "cell_type": "code",
   "execution_count": 1,
   "id": "1d990ede-a5ff-449b-9e29-9517a2909b64",
   "metadata": {},
   "outputs": [],
   "source": [
    "import pandas as pd\n",
    "from matplotlib import pyplot as plt\n",
    "import numpy as np"
   ]
  },
  {
   "cell_type": "code",
   "execution_count": 2,
   "id": "6519baa1-1e34-472e-80e8-c04fe5dc0561",
   "metadata": {},
   "outputs": [],
   "source": [
    "# En el caso de que se quiera analizar la gente con la que Elon interactúa, se podría dejar la columna reply_to. Dejo la columna id para eliminar luego duplicados en caso de que los haya\n",
    "\n",
    "tweets_2015_2020= pd.read_csv(\"datasets/tweets/2015_2020.csv\", usecols=['id', 'date', 'time', 'tweet', 'replies_count', 'retweets_count', 'likes_count']) \n",
    "tweets_2021 = pd.read_csv(\"datasets/tweets/2021.csv\", usecols=['id', 'date', 'time', 'tweet', 'replies_count', 'retweets_count', 'likes_count'])\n",
    "tweets_2022 = pd.read_csv(\"datasets/tweets/2022.csv\", usecols=['id', 'date', 'time', 'tweet', 'replies_count', 'retweets_count', 'likes_count'])"
   ]
  },
  {
   "cell_type": "code",
   "execution_count": 3,
   "id": "7f0dfc76-a326-40f2-b3d9-3989cb73b228",
   "metadata": {},
   "outputs": [],
   "source": [
    "tweet_df = pd.concat([tweets_2015_2020, tweets_2021, tweets_2022])"
   ]
  },
  {
   "cell_type": "code",
   "execution_count": 4,
   "id": "0516ff4e-902d-4ab2-b718-ccaaa633344a",
   "metadata": {},
   "outputs": [
    {
     "data": {
      "text/html": [
       "<div>\n",
       "<style scoped>\n",
       "    .dataframe tbody tr th:only-of-type {\n",
       "        vertical-align: middle;\n",
       "    }\n",
       "\n",
       "    .dataframe tbody tr th {\n",
       "        vertical-align: top;\n",
       "    }\n",
       "\n",
       "    .dataframe thead th {\n",
       "        text-align: right;\n",
       "    }\n",
       "</style>\n",
       "<table border=\"1\" class=\"dataframe\">\n",
       "  <thead>\n",
       "    <tr style=\"text-align: right;\">\n",
       "      <th></th>\n",
       "      <th>id</th>\n",
       "      <th>date</th>\n",
       "      <th>time</th>\n",
       "      <th>tweet</th>\n",
       "      <th>replies_count</th>\n",
       "      <th>retweets_count</th>\n",
       "      <th>likes_count</th>\n",
       "    </tr>\n",
       "  </thead>\n",
       "  <tbody>\n",
       "    <tr>\n",
       "      <th>0</th>\n",
       "      <td>1282939902531796993</td>\n",
       "      <td>2020-07-14</td>\n",
       "      <td>07:28:03</td>\n",
       "      <td>Cute</td>\n",
       "      <td>222</td>\n",
       "      <td>176</td>\n",
       "      <td>7883</td>\n",
       "    </tr>\n",
       "    <tr>\n",
       "      <th>1</th>\n",
       "      <td>1282844872571904000</td>\n",
       "      <td>2020-07-14</td>\n",
       "      <td>01:10:26</td>\n",
       "      <td>Wow</td>\n",
       "      <td>346</td>\n",
       "      <td>180</td>\n",
       "      <td>4241</td>\n",
       "    </tr>\n",
       "    <tr>\n",
       "      <th>2</th>\n",
       "      <td>1282805559834492929</td>\n",
       "      <td>2020-07-13</td>\n",
       "      <td>22:34:13</td>\n",
       "      <td>Reusability is essential. A rocket that is sin...</td>\n",
       "      <td>102</td>\n",
       "      <td>126</td>\n",
       "      <td>1551</td>\n",
       "    </tr>\n",
       "    <tr>\n",
       "      <th>3</th>\n",
       "      <td>1282800187308572672</td>\n",
       "      <td>2020-07-13</td>\n",
       "      <td>22:12:52</td>\n",
       "      <td>Wild times!</td>\n",
       "      <td>438</td>\n",
       "      <td>415</td>\n",
       "      <td>13421</td>\n",
       "    </tr>\n",
       "    <tr>\n",
       "      <th>4</th>\n",
       "      <td>1282800078000803840</td>\n",
       "      <td>2020-07-13</td>\n",
       "      <td>22:12:26</td>\n",
       "      <td>We’re being extra paranoid. Maximizing probabi...</td>\n",
       "      <td>128</td>\n",
       "      <td>155</td>\n",
       "      <td>4238</td>\n",
       "    </tr>\n",
       "    <tr>\n",
       "      <th>...</th>\n",
       "      <td>...</td>\n",
       "      <td>...</td>\n",
       "      <td>...</td>\n",
       "      <td>...</td>\n",
       "      <td>...</td>\n",
       "      <td>...</td>\n",
       "      <td>...</td>\n",
       "    </tr>\n",
       "    <tr>\n",
       "      <th>1023</th>\n",
       "      <td>1477775713172402176</td>\n",
       "      <td>2022-01-03</td>\n",
       "      <td>02:56:00</td>\n",
       "      <td>https://t.co/LA9hPzVlGx</td>\n",
       "      <td>25611</td>\n",
       "      <td>51383</td>\n",
       "      <td>473530</td>\n",
       "    </tr>\n",
       "    <tr>\n",
       "      <th>1024</th>\n",
       "      <td>1477706142461706248</td>\n",
       "      <td>2022-01-02</td>\n",
       "      <td>22:19:33</td>\n",
       "      <td>Let’s make the roaring 20’s happen!</td>\n",
       "      <td>22500</td>\n",
       "      <td>26951</td>\n",
       "      <td>320201</td>\n",
       "    </tr>\n",
       "    <tr>\n",
       "      <th>1025</th>\n",
       "      <td>1477700424933253123</td>\n",
       "      <td>2022-01-02</td>\n",
       "      <td>21:56:50</td>\n",
       "      <td>Great work by Tesla team worldwide!</td>\n",
       "      <td>5630</td>\n",
       "      <td>4459</td>\n",
       "      <td>66405</td>\n",
       "    </tr>\n",
       "    <tr>\n",
       "      <th>1026</th>\n",
       "      <td>1477096955658579974</td>\n",
       "      <td>2022-01-01</td>\n",
       "      <td>05:58:52</td>\n",
       "      <td>@BLKMDL3 @Tesla 🔥</td>\n",
       "      <td>1074</td>\n",
       "      <td>472</td>\n",
       "      <td>45704</td>\n",
       "    </tr>\n",
       "    <tr>\n",
       "      <th>1027</th>\n",
       "      <td>1477080438049058818</td>\n",
       "      <td>2022-01-01</td>\n",
       "      <td>04:53:13</td>\n",
       "      <td>@MiFSDBetaTester @WholeMarsBlog 🤣</td>\n",
       "      <td>327</td>\n",
       "      <td>151</td>\n",
       "      <td>4127</td>\n",
       "    </tr>\n",
       "  </tbody>\n",
       "</table>\n",
       "<p>13429 rows × 7 columns</p>\n",
       "</div>"
      ],
      "text/plain": [
       "                       id        date      time  \\\n",
       "0     1282939902531796993  2020-07-14  07:28:03   \n",
       "1     1282844872571904000  2020-07-14  01:10:26   \n",
       "2     1282805559834492929  2020-07-13  22:34:13   \n",
       "3     1282800187308572672  2020-07-13  22:12:52   \n",
       "4     1282800078000803840  2020-07-13  22:12:26   \n",
       "...                   ...         ...       ...   \n",
       "1023  1477775713172402176  2022-01-03  02:56:00   \n",
       "1024  1477706142461706248  2022-01-02  22:19:33   \n",
       "1025  1477700424933253123  2022-01-02  21:56:50   \n",
       "1026  1477096955658579974  2022-01-01  05:58:52   \n",
       "1027  1477080438049058818  2022-01-01  04:53:13   \n",
       "\n",
       "                                                  tweet  replies_count  \\\n",
       "0                                                  Cute            222   \n",
       "1                                                   Wow            346   \n",
       "2     Reusability is essential. A rocket that is sin...            102   \n",
       "3                                           Wild times!            438   \n",
       "4     We’re being extra paranoid. Maximizing probabi...            128   \n",
       "...                                                 ...            ...   \n",
       "1023                            https://t.co/LA9hPzVlGx          25611   \n",
       "1024                Let’s make the roaring 20’s happen!          22500   \n",
       "1025                Great work by Tesla team worldwide!           5630   \n",
       "1026                                  @BLKMDL3 @Tesla 🔥           1074   \n",
       "1027                  @MiFSDBetaTester @WholeMarsBlog 🤣            327   \n",
       "\n",
       "      retweets_count  likes_count  \n",
       "0                176         7883  \n",
       "1                180         4241  \n",
       "2                126         1551  \n",
       "3                415        13421  \n",
       "4                155         4238  \n",
       "...              ...          ...  \n",
       "1023           51383       473530  \n",
       "1024           26951       320201  \n",
       "1025            4459        66405  \n",
       "1026             472        45704  \n",
       "1027             151         4127  \n",
       "\n",
       "[13429 rows x 7 columns]"
      ]
     },
     "execution_count": 4,
     "metadata": {},
     "output_type": "execute_result"
    }
   ],
   "source": [
    "#tweet_df es una dataframe cuyas columnas son: 'id', 'date', 'time', 'tweet', 'replies_count', 'retweets_count'y 'likes_count', se dejo el index agregado por phyton porque ayuda a ordenar los tweets y a saber la cantidad\n",
    "tweet_df"
   ]
  },
  {
   "cell_type": "code",
   "execution_count": 5,
   "id": "9e615b43-098e-4f40-b519-b42c4ec910b0",
   "metadata": {},
   "outputs": [
    {
     "data": {
      "text/plain": [
       "Index(['id', 'date', 'time', 'tweet', 'replies_count', 'retweets_count',\n",
       "       'likes_count'],\n",
       "      dtype='object')"
      ]
     },
     "execution_count": 5,
     "metadata": {},
     "output_type": "execute_result"
    }
   ],
   "source": [
    "#Las columnas se encuentran en snake case\n",
    "tweet_df.columns"
   ]
  },
  {
   "cell_type": "code",
   "execution_count": 6,
   "id": "4d458c14-a8ca-4630-beea-d7800f24eb7e",
   "metadata": {},
   "outputs": [
    {
     "data": {
      "text/html": [
       "<div>\n",
       "<style scoped>\n",
       "    .dataframe tbody tr th:only-of-type {\n",
       "        vertical-align: middle;\n",
       "    }\n",
       "\n",
       "    .dataframe tbody tr th {\n",
       "        vertical-align: top;\n",
       "    }\n",
       "\n",
       "    .dataframe thead th {\n",
       "        text-align: right;\n",
       "    }\n",
       "</style>\n",
       "<table border=\"1\" class=\"dataframe\">\n",
       "  <thead>\n",
       "    <tr style=\"text-align: right;\">\n",
       "      <th></th>\n",
       "      <th>id</th>\n",
       "      <th>date</th>\n",
       "      <th>time</th>\n",
       "      <th>tweet</th>\n",
       "      <th>replies_count</th>\n",
       "      <th>retweets_count</th>\n",
       "      <th>likes_count</th>\n",
       "    </tr>\n",
       "  </thead>\n",
       "  <tbody>\n",
       "    <tr>\n",
       "      <th>0</th>\n",
       "      <td>1282939902531796993</td>\n",
       "      <td>2020-07-14</td>\n",
       "      <td>07:28:03</td>\n",
       "      <td>Cute</td>\n",
       "      <td>222</td>\n",
       "      <td>176</td>\n",
       "      <td>7883</td>\n",
       "    </tr>\n",
       "    <tr>\n",
       "      <th>1</th>\n",
       "      <td>1282844872571904000</td>\n",
       "      <td>2020-07-14</td>\n",
       "      <td>01:10:26</td>\n",
       "      <td>Wow</td>\n",
       "      <td>346</td>\n",
       "      <td>180</td>\n",
       "      <td>4241</td>\n",
       "    </tr>\n",
       "    <tr>\n",
       "      <th>2</th>\n",
       "      <td>1282805559834492929</td>\n",
       "      <td>2020-07-13</td>\n",
       "      <td>22:34:13</td>\n",
       "      <td>Reusability is essential. A rocket that is sin...</td>\n",
       "      <td>102</td>\n",
       "      <td>126</td>\n",
       "      <td>1551</td>\n",
       "    </tr>\n",
       "    <tr>\n",
       "      <th>3</th>\n",
       "      <td>1282800187308572672</td>\n",
       "      <td>2020-07-13</td>\n",
       "      <td>22:12:52</td>\n",
       "      <td>Wild times!</td>\n",
       "      <td>438</td>\n",
       "      <td>415</td>\n",
       "      <td>13421</td>\n",
       "    </tr>\n",
       "    <tr>\n",
       "      <th>4</th>\n",
       "      <td>1282800078000803840</td>\n",
       "      <td>2020-07-13</td>\n",
       "      <td>22:12:26</td>\n",
       "      <td>We’re being extra paranoid. Maximizing probabi...</td>\n",
       "      <td>128</td>\n",
       "      <td>155</td>\n",
       "      <td>4238</td>\n",
       "    </tr>\n",
       "  </tbody>\n",
       "</table>\n",
       "</div>"
      ],
      "text/plain": [
       "                    id        date      time  \\\n",
       "0  1282939902531796993  2020-07-14  07:28:03   \n",
       "1  1282844872571904000  2020-07-14  01:10:26   \n",
       "2  1282805559834492929  2020-07-13  22:34:13   \n",
       "3  1282800187308572672  2020-07-13  22:12:52   \n",
       "4  1282800078000803840  2020-07-13  22:12:26   \n",
       "\n",
       "                                               tweet  replies_count  \\\n",
       "0                                               Cute            222   \n",
       "1                                                Wow            346   \n",
       "2  Reusability is essential. A rocket that is sin...            102   \n",
       "3                                        Wild times!            438   \n",
       "4  We’re being extra paranoid. Maximizing probabi...            128   \n",
       "\n",
       "   retweets_count  likes_count  \n",
       "0             176         7883  \n",
       "1             180         4241  \n",
       "2             126         1551  \n",
       "3             415        13421  \n",
       "4             155         4238  "
      ]
     },
     "execution_count": 6,
     "metadata": {},
     "output_type": "execute_result"
    }
   ],
   "source": [
    "tweet_df.head()"
   ]
  },
  {
   "cell_type": "code",
   "execution_count": 7,
   "id": "8709a8fb-bb32-4bfc-8d3c-d2c78fc359ad",
   "metadata": {},
   "outputs": [
    {
     "name": "stdout",
     "output_type": "stream",
     "text": [
      "<class 'pandas.core.frame.DataFrame'>\n",
      "Int64Index: 13429 entries, 0 to 1027\n",
      "Data columns (total 7 columns):\n",
      " #   Column          Non-Null Count  Dtype \n",
      "---  ------          --------------  ----- \n",
      " 0   id              13429 non-null  int64 \n",
      " 1   date            13429 non-null  object\n",
      " 2   time            13429 non-null  object\n",
      " 3   tweet           13429 non-null  object\n",
      " 4   replies_count   13429 non-null  int64 \n",
      " 5   retweets_count  13429 non-null  int64 \n",
      " 6   likes_count     13429 non-null  int64 \n",
      "dtypes: int64(4), object(3)\n",
      "memory usage: 839.3+ KB\n"
     ]
    }
   ],
   "source": [
    "tweet_df.info()"
   ]
  },
  {
   "cell_type": "code",
   "execution_count": 8,
   "id": "985d1422-cd04-4d25-a945-aaf342f6acfb",
   "metadata": {},
   "outputs": [
    {
     "data": {
      "text/html": [
       "<div>\n",
       "<style scoped>\n",
       "    .dataframe tbody tr th:only-of-type {\n",
       "        vertical-align: middle;\n",
       "    }\n",
       "\n",
       "    .dataframe tbody tr th {\n",
       "        vertical-align: top;\n",
       "    }\n",
       "\n",
       "    .dataframe thead th {\n",
       "        text-align: right;\n",
       "    }\n",
       "</style>\n",
       "<table border=\"1\" class=\"dataframe\">\n",
       "  <thead>\n",
       "    <tr style=\"text-align: right;\">\n",
       "      <th></th>\n",
       "      <th>id</th>\n",
       "      <th>replies_count</th>\n",
       "      <th>retweets_count</th>\n",
       "      <th>likes_count</th>\n",
       "    </tr>\n",
       "  </thead>\n",
       "  <tbody>\n",
       "    <tr>\n",
       "      <th>count</th>\n",
       "      <td>1.342900e+04</td>\n",
       "      <td>13429.000000</td>\n",
       "      <td>13429.000000</td>\n",
       "      <td>1.342900e+04</td>\n",
       "    </tr>\n",
       "    <tr>\n",
       "      <th>mean</th>\n",
       "      <td>1.171992e+18</td>\n",
       "      <td>1295.035967</td>\n",
       "      <td>2933.753965</td>\n",
       "      <td>2.836605e+04</td>\n",
       "    </tr>\n",
       "    <tr>\n",
       "      <th>std</th>\n",
       "      <td>2.262213e+17</td>\n",
       "      <td>4320.082272</td>\n",
       "      <td>11129.945487</td>\n",
       "      <td>7.723859e+04</td>\n",
       "    </tr>\n",
       "    <tr>\n",
       "      <th>min</th>\n",
       "      <td>5.610022e+17</td>\n",
       "      <td>0.000000</td>\n",
       "      <td>0.000000</td>\n",
       "      <td>2.100000e+01</td>\n",
       "    </tr>\n",
       "    <tr>\n",
       "      <th>25%</th>\n",
       "      <td>1.015690e+18</td>\n",
       "      <td>64.000000</td>\n",
       "      <td>65.000000</td>\n",
       "      <td>1.363000e+03</td>\n",
       "    </tr>\n",
       "    <tr>\n",
       "      <th>50%</th>\n",
       "      <td>1.177062e+18</td>\n",
       "      <td>217.000000</td>\n",
       "      <td>264.000000</td>\n",
       "      <td>4.649000e+03</td>\n",
       "    </tr>\n",
       "    <tr>\n",
       "      <th>75%</th>\n",
       "      <td>1.382541e+18</td>\n",
       "      <td>721.000000</td>\n",
       "      <td>1208.000000</td>\n",
       "      <td>1.703500e+04</td>\n",
       "    </tr>\n",
       "    <tr>\n",
       "      <th>max</th>\n",
       "      <td>1.500030e+18</td>\n",
       "      <td>120523.000000</td>\n",
       "      <td>384289.000000</td>\n",
       "      <td>1.682551e+06</td>\n",
       "    </tr>\n",
       "  </tbody>\n",
       "</table>\n",
       "</div>"
      ],
      "text/plain": [
       "                 id  replies_count  retweets_count   likes_count\n",
       "count  1.342900e+04   13429.000000    13429.000000  1.342900e+04\n",
       "mean   1.171992e+18    1295.035967     2933.753965  2.836605e+04\n",
       "std    2.262213e+17    4320.082272    11129.945487  7.723859e+04\n",
       "min    5.610022e+17       0.000000        0.000000  2.100000e+01\n",
       "25%    1.015690e+18      64.000000       65.000000  1.363000e+03\n",
       "50%    1.177062e+18     217.000000      264.000000  4.649000e+03\n",
       "75%    1.382541e+18     721.000000     1208.000000  1.703500e+04\n",
       "max    1.500030e+18  120523.000000   384289.000000  1.682551e+06"
      ]
     },
     "execution_count": 8,
     "metadata": {},
     "output_type": "execute_result"
    }
   ],
   "source": [
    "tweet_df.describe()"
   ]
  },
  {
   "cell_type": "code",
   "execution_count": 9,
   "id": "11b49fbc-ba8f-4e5b-81eb-c2be25dbaba5",
   "metadata": {},
   "outputs": [],
   "source": [
    "tweet_df['date']= pd.to_datetime(tweet_df.date)"
   ]
  },
  {
   "cell_type": "code",
   "execution_count": 10,
   "id": "973766e2-ea71-4036-ad30-7265048cdba1",
   "metadata": {},
   "outputs": [],
   "source": [
    "tweet_df['time']= pd.to_datetime(tweet_df['time'],format= '%H:%M:%S').dt.hour"
   ]
  },
  {
   "cell_type": "markdown",
   "id": "62b687b4-1bc1-494e-a0b8-5b1ed042b8fa",
   "metadata": {},
   "source": [
    "| Column        | Data group          | Python obj class |\n",
    "|---------------|---------------------|------------------|\n",
    "| index         | Numeric Integer     | int              |\n",
    "| date          | categorical ordinal | str              |\n",
    "| time          | categorical ordinal | str              |\n",
    "| tweet         | categorical nominal | str              |\n",
    "| replies_count | numeric integer     | int              |\n",
    "| retweet_count | numeric integer     | int              |\n",
    "| likes_count   | numeric integer     | int              |\n",
    "| id            | numeric integer     | int              |"
   ]
  },
  {
   "cell_type": "code",
   "execution_count": 11,
   "id": "b8692742-2c4c-4734-ac89-ea0e9d416c47",
   "metadata": {},
   "outputs": [
    {
     "data": {
      "text/plain": [
       "0       False\n",
       "1       False\n",
       "2       False\n",
       "3       False\n",
       "4       False\n",
       "        ...  \n",
       "1023     True\n",
       "1024     True\n",
       "1025     True\n",
       "1026     True\n",
       "1027     True\n",
       "Length: 13429, dtype: bool"
      ]
     },
     "execution_count": 11,
     "metadata": {},
     "output_type": "execute_result"
    }
   ],
   "source": [
    "tweet_df.duplicated(subset='id')"
   ]
  },
  {
   "cell_type": "code",
   "execution_count": 12,
   "id": "dc820ee8-0f0f-402d-a0a5-65d2c5849903",
   "metadata": {},
   "outputs": [],
   "source": [
    "tweet_df = tweet_df.drop_duplicates(subset='id')"
   ]
  },
  {
   "cell_type": "code",
   "execution_count": 13,
   "id": "6fd4f652-c079-42a9-acdd-3a2d3cc1679d",
   "metadata": {},
   "outputs": [
    {
     "data": {
      "text/html": [
       "<div>\n",
       "<style scoped>\n",
       "    .dataframe tbody tr th:only-of-type {\n",
       "        vertical-align: middle;\n",
       "    }\n",
       "\n",
       "    .dataframe tbody tr th {\n",
       "        vertical-align: top;\n",
       "    }\n",
       "\n",
       "    .dataframe thead th {\n",
       "        text-align: right;\n",
       "    }\n",
       "</style>\n",
       "<table border=\"1\" class=\"dataframe\">\n",
       "  <thead>\n",
       "    <tr style=\"text-align: right;\">\n",
       "      <th></th>\n",
       "      <th>id</th>\n",
       "      <th>date</th>\n",
       "      <th>time</th>\n",
       "      <th>tweet</th>\n",
       "      <th>replies_count</th>\n",
       "      <th>retweets_count</th>\n",
       "      <th>likes_count</th>\n",
       "    </tr>\n",
       "  </thead>\n",
       "  <tbody>\n",
       "    <tr>\n",
       "      <th>0</th>\n",
       "      <td>False</td>\n",
       "      <td>False</td>\n",
       "      <td>False</td>\n",
       "      <td>False</td>\n",
       "      <td>False</td>\n",
       "      <td>False</td>\n",
       "      <td>False</td>\n",
       "    </tr>\n",
       "    <tr>\n",
       "      <th>1</th>\n",
       "      <td>False</td>\n",
       "      <td>False</td>\n",
       "      <td>False</td>\n",
       "      <td>False</td>\n",
       "      <td>False</td>\n",
       "      <td>False</td>\n",
       "      <td>False</td>\n",
       "    </tr>\n",
       "    <tr>\n",
       "      <th>2</th>\n",
       "      <td>False</td>\n",
       "      <td>False</td>\n",
       "      <td>False</td>\n",
       "      <td>False</td>\n",
       "      <td>False</td>\n",
       "      <td>False</td>\n",
       "      <td>False</td>\n",
       "    </tr>\n",
       "    <tr>\n",
       "      <th>3</th>\n",
       "      <td>False</td>\n",
       "      <td>False</td>\n",
       "      <td>False</td>\n",
       "      <td>False</td>\n",
       "      <td>False</td>\n",
       "      <td>False</td>\n",
       "      <td>False</td>\n",
       "    </tr>\n",
       "    <tr>\n",
       "      <th>4</th>\n",
       "      <td>False</td>\n",
       "      <td>False</td>\n",
       "      <td>False</td>\n",
       "      <td>False</td>\n",
       "      <td>False</td>\n",
       "      <td>False</td>\n",
       "      <td>False</td>\n",
       "    </tr>\n",
       "    <tr>\n",
       "      <th>...</th>\n",
       "      <td>...</td>\n",
       "      <td>...</td>\n",
       "      <td>...</td>\n",
       "      <td>...</td>\n",
       "      <td>...</td>\n",
       "      <td>...</td>\n",
       "      <td>...</td>\n",
       "    </tr>\n",
       "    <tr>\n",
       "      <th>509</th>\n",
       "      <td>False</td>\n",
       "      <td>False</td>\n",
       "      <td>False</td>\n",
       "      <td>False</td>\n",
       "      <td>False</td>\n",
       "      <td>False</td>\n",
       "      <td>False</td>\n",
       "    </tr>\n",
       "    <tr>\n",
       "      <th>510</th>\n",
       "      <td>False</td>\n",
       "      <td>False</td>\n",
       "      <td>False</td>\n",
       "      <td>False</td>\n",
       "      <td>False</td>\n",
       "      <td>False</td>\n",
       "      <td>False</td>\n",
       "    </tr>\n",
       "    <tr>\n",
       "      <th>511</th>\n",
       "      <td>False</td>\n",
       "      <td>False</td>\n",
       "      <td>False</td>\n",
       "      <td>False</td>\n",
       "      <td>False</td>\n",
       "      <td>False</td>\n",
       "      <td>False</td>\n",
       "    </tr>\n",
       "    <tr>\n",
       "      <th>512</th>\n",
       "      <td>False</td>\n",
       "      <td>False</td>\n",
       "      <td>False</td>\n",
       "      <td>False</td>\n",
       "      <td>False</td>\n",
       "      <td>False</td>\n",
       "      <td>False</td>\n",
       "    </tr>\n",
       "    <tr>\n",
       "      <th>513</th>\n",
       "      <td>False</td>\n",
       "      <td>False</td>\n",
       "      <td>False</td>\n",
       "      <td>False</td>\n",
       "      <td>False</td>\n",
       "      <td>False</td>\n",
       "      <td>False</td>\n",
       "    </tr>\n",
       "  </tbody>\n",
       "</table>\n",
       "<p>12915 rows × 7 columns</p>\n",
       "</div>"
      ],
      "text/plain": [
       "        id   date   time  tweet  replies_count  retweets_count  likes_count\n",
       "0    False  False  False  False          False           False        False\n",
       "1    False  False  False  False          False           False        False\n",
       "2    False  False  False  False          False           False        False\n",
       "3    False  False  False  False          False           False        False\n",
       "4    False  False  False  False          False           False        False\n",
       "..     ...    ...    ...    ...            ...             ...          ...\n",
       "509  False  False  False  False          False           False        False\n",
       "510  False  False  False  False          False           False        False\n",
       "511  False  False  False  False          False           False        False\n",
       "512  False  False  False  False          False           False        False\n",
       "513  False  False  False  False          False           False        False\n",
       "\n",
       "[12915 rows x 7 columns]"
      ]
     },
     "execution_count": 13,
     "metadata": {},
     "output_type": "execute_result"
    }
   ],
   "source": [
    "tweet_df.isna()"
   ]
  },
  {
   "cell_type": "code",
   "execution_count": 14,
   "id": "7e5aa680-dc62-496d-9b34-71b540631dc9",
   "metadata": {},
   "outputs": [
    {
     "data": {
      "text/plain": [
       "0     2020-07-14\n",
       "1     2020-07-14\n",
       "2     2020-07-13\n",
       "3     2020-07-13\n",
       "4     2020-07-13\n",
       "         ...    \n",
       "509   2022-01-03\n",
       "510   2022-01-02\n",
       "511   2022-01-02\n",
       "512   2022-01-01\n",
       "513   2022-01-01\n",
       "Name: date, Length: 12915, dtype: datetime64[ns]"
      ]
     },
     "execution_count": 14,
     "metadata": {},
     "output_type": "execute_result"
    }
   ],
   "source": [
    "tweet_df['date']"
   ]
  },
  {
   "cell_type": "code",
   "execution_count": 15,
   "id": "16a5d05f-56d5-4a6e-933c-439936738cc3",
   "metadata": {},
   "outputs": [
    {
     "data": {
      "text/plain": [
       "0       7\n",
       "1       1\n",
       "2      22\n",
       "3      22\n",
       "4      22\n",
       "       ..\n",
       "509     2\n",
       "510    22\n",
       "511    21\n",
       "512     5\n",
       "513     4\n",
       "Name: time, Length: 12915, dtype: int64"
      ]
     },
     "execution_count": 15,
     "metadata": {},
     "output_type": "execute_result"
    }
   ],
   "source": [
    "tweet_df['time']"
   ]
  },
  {
   "cell_type": "code",
   "execution_count": 16,
   "id": "da6b3468-4ea6-4c60-8302-7a1608d90af7",
   "metadata": {},
   "outputs": [
    {
     "data": {
      "text/plain": [
       "<AxesSubplot:xlabel='date'>"
      ]
     },
     "execution_count": 16,
     "metadata": {},
     "output_type": "execute_result"
    },
    {
     "data": {
      "image/png": "[encoded data removed]",
      "text/plain": [
       "<Figure size 432x288 with 1 Axes>"
      ]
     },
     "metadata": {
      "needs_background": "light"
     },
     "output_type": "display_data"
    }
   ],
   "source": [
    "tweet_df.plot(x='date', y='likes_count')"
   ]
  },
  {
   "cell_type": "code",
   "execution_count": 17,
   "id": "8bff4679-7177-4301-8899-e94843c20fa5",
   "metadata": {},
   "outputs": [
    {
     "data": {
      "text/plain": [
       "<AxesSubplot:xlabel='date'>"
      ]
     },
     "execution_count": 17,
     "metadata": {},
     "output_type": "execute_result"
    },
    {
     "data": {
      "image/png": "[encoded data removed]",
      "text/plain": [
       "<Figure size 432x288 with 1 Axes>"
      ]
     },
     "metadata": {
      "needs_background": "light"
     },
     "output_type": "display_data"
    }
   ],
   "source": [
    "tweet_df.plot(x='date', y='retweets_count')"
   ]
  },
  {
   "cell_type": "code",
   "execution_count": 18,
   "id": "70cc805d-506f-40df-b4ce-66f89c3f5bae",
   "metadata": {},
   "outputs": [
    {
     "data": {
      "text/plain": [
       "<AxesSubplot:xlabel='date'>"
      ]
     },
     "execution_count": 18,
     "metadata": {},
     "output_type": "execute_result"
    },
    {
     "data": {
      "image/png": "[encoded data removed]",
      "text/plain": [
       "<Figure size 432x288 with 1 Axes>"
      ]
     },
     "metadata": {
      "needs_background": "light"
     },
     "output_type": "display_data"
    }
   ],
   "source": [
    "tweet_df.plot(x='date', y='replies_count')"
   ]
  },
  {
   "cell_type": "markdown",
   "id": "c47f8cfa-4903-4314-979b-52cf27f52040",
   "metadata": {},
   "source": [
    "# ¿Cuales fueron sus tweets más respondidos?\n"
   ]
  },
  {
   "cell_type": "code",
   "execution_count": 19,
   "id": "c099ef13-2456-478e-91ce-b63a5128ce9e",
   "metadata": {},
   "outputs": [],
   "source": [
    "#Usando .sort_values se puede ordenar la dataframe en funcion de una columna elegida"
   ]
  },
  {
   "cell_type": "code",
   "execution_count": 20,
   "id": "38928af0-b535-4432-b23a-c48bc497e9f7",
   "metadata": {},
   "outputs": [
    {
     "data": {
      "text/html": [
       "<div>\n",
       "<style scoped>\n",
       "    .dataframe tbody tr th:only-of-type {\n",
       "        vertical-align: middle;\n",
       "    }\n",
       "\n",
       "    .dataframe tbody tr th {\n",
       "        vertical-align: top;\n",
       "    }\n",
       "\n",
       "    .dataframe thead th {\n",
       "        text-align: right;\n",
       "    }\n",
       "</style>\n",
       "<table border=\"1\" class=\"dataframe\">\n",
       "  <thead>\n",
       "    <tr style=\"text-align: right;\">\n",
       "      <th></th>\n",
       "      <th>id</th>\n",
       "      <th>date</th>\n",
       "      <th>time</th>\n",
       "      <th>tweet</th>\n",
       "      <th>replies_count</th>\n",
       "      <th>retweets_count</th>\n",
       "      <th>likes_count</th>\n",
       "    </tr>\n",
       "  </thead>\n",
       "  <tbody>\n",
       "    <tr>\n",
       "      <th>2141</th>\n",
       "      <td>1392602041025843203</td>\n",
       "      <td>2021-05-13</td>\n",
       "      <td>2</td>\n",
       "      <td>Tesla &amp;amp; Bitcoin  https://t.co/YSswJmVZhP</td>\n",
       "      <td>120523</td>\n",
       "      <td>73792</td>\n",
       "      <td>491785</td>\n",
       "    </tr>\n",
       "    <tr>\n",
       "      <th>2151</th>\n",
       "      <td>1392030108274159619</td>\n",
       "      <td>2021-05-11</td>\n",
       "      <td>12</td>\n",
       "      <td>Do you want Tesla to accept Doge?</td>\n",
       "      <td>96563</td>\n",
       "      <td>94898</td>\n",
       "      <td>392471</td>\n",
       "    </tr>\n",
       "    <tr>\n",
       "      <th>2095</th>\n",
       "      <td>1395328697436033032</td>\n",
       "      <td>2021-05-20</td>\n",
       "      <td>14</td>\n",
       "      <td>How much is that Doge in the window?  https://...</td>\n",
       "      <td>70818</td>\n",
       "      <td>52441</td>\n",
       "      <td>302873</td>\n",
       "    </tr>\n",
       "    <tr>\n",
       "      <th>2103</th>\n",
       "      <td>1395027147161489412</td>\n",
       "      <td>2021-05-19</td>\n",
       "      <td>18</td>\n",
       "      <td>Tesla has 💎 🙌</td>\n",
       "      <td>68672</td>\n",
       "      <td>55180</td>\n",
       "      <td>452335</td>\n",
       "    </tr>\n",
       "    <tr>\n",
       "      <th>2182</th>\n",
       "      <td>1390387635961610242</td>\n",
       "      <td>2021-05-06</td>\n",
       "      <td>23</td>\n",
       "      <td>Make humanity a multiplanet species!</td>\n",
       "      <td>66264</td>\n",
       "      <td>60063</td>\n",
       "      <td>606101</td>\n",
       "    </tr>\n",
       "    <tr>\n",
       "      <th>...</th>\n",
       "      <td>...</td>\n",
       "      <td>...</td>\n",
       "      <td>...</td>\n",
       "      <td>...</td>\n",
       "      <td>...</td>\n",
       "      <td>...</td>\n",
       "      <td>...</td>\n",
       "    </tr>\n",
       "    <tr>\n",
       "      <th>9079</th>\n",
       "      <td>656973144306094080</td>\n",
       "      <td>2015-10-21</td>\n",
       "      <td>23</td>\n",
       "      <td>@bonnienorman thanks Bonnie :)</td>\n",
       "      <td>0</td>\n",
       "      <td>7</td>\n",
       "      <td>62</td>\n",
       "    </tr>\n",
       "    <tr>\n",
       "      <th>8851</th>\n",
       "      <td>716749717795946496</td>\n",
       "      <td>2016-04-03</td>\n",
       "      <td>22</td>\n",
       "      <td>@mpatfield no problem</td>\n",
       "      <td>0</td>\n",
       "      <td>6</td>\n",
       "      <td>110</td>\n",
       "    </tr>\n",
       "    <tr>\n",
       "      <th>8619</th>\n",
       "      <td>752195886990569473</td>\n",
       "      <td>2016-07-10</td>\n",
       "      <td>17</td>\n",
       "      <td>exactly</td>\n",
       "      <td>0</td>\n",
       "      <td>0</td>\n",
       "      <td>77</td>\n",
       "    </tr>\n",
       "    <tr>\n",
       "      <th>1130</th>\n",
       "      <td>1433254957101109254</td>\n",
       "      <td>2021-09-02</td>\n",
       "      <td>6</td>\n",
       "      <td>@VitalikButerin  https://t.co/EFGqFcsJ6S</td>\n",
       "      <td>0</td>\n",
       "      <td>934</td>\n",
       "      <td>21065</td>\n",
       "    </tr>\n",
       "    <tr>\n",
       "      <th>8633</th>\n",
       "      <td>751513637861224449</td>\n",
       "      <td>2016-07-08</td>\n",
       "      <td>20</td>\n",
       "      <td>thanks</td>\n",
       "      <td>0</td>\n",
       "      <td>8</td>\n",
       "      <td>84</td>\n",
       "    </tr>\n",
       "  </tbody>\n",
       "</table>\n",
       "<p>12915 rows × 7 columns</p>\n",
       "</div>"
      ],
      "text/plain": [
       "                       id       date  time  \\\n",
       "2141  1392602041025843203 2021-05-13     2   \n",
       "2151  1392030108274159619 2021-05-11    12   \n",
       "2095  1395328697436033032 2021-05-20    14   \n",
       "2103  1395027147161489412 2021-05-19    18   \n",
       "2182  1390387635961610242 2021-05-06    23   \n",
       "...                   ...        ...   ...   \n",
       "9079   656973144306094080 2015-10-21    23   \n",
       "8851   716749717795946496 2016-04-03    22   \n",
       "8619   752195886990569473 2016-07-10    17   \n",
       "1130  1433254957101109254 2021-09-02     6   \n",
       "8633   751513637861224449 2016-07-08    20   \n",
       "\n",
       "                                                  tweet  replies_count  \\\n",
       "2141       Tesla &amp; Bitcoin  https://t.co/YSswJmVZhP         120523   \n",
       "2151                  Do you want Tesla to accept Doge?          96563   \n",
       "2095  How much is that Doge in the window?  https://...          70818   \n",
       "2103                                      Tesla has 💎 🙌          68672   \n",
       "2182               Make humanity a multiplanet species!          66264   \n",
       "...                                                 ...            ...   \n",
       "9079                     @bonnienorman thanks Bonnie :)              0   \n",
       "8851                              @mpatfield no problem              0   \n",
       "8619                                            exactly              0   \n",
       "1130           @VitalikButerin  https://t.co/EFGqFcsJ6S              0   \n",
       "8633                                             thanks              0   \n",
       "\n",
       "      retweets_count  likes_count  \n",
       "2141           73792       491785  \n",
       "2151           94898       392471  \n",
       "2095           52441       302873  \n",
       "2103           55180       452335  \n",
       "2182           60063       606101  \n",
       "...              ...          ...  \n",
       "9079               7           62  \n",
       "8851               6          110  \n",
       "8619               0           77  \n",
       "1130             934        21065  \n",
       "8633               8           84  \n",
       "\n",
       "[12915 rows x 7 columns]"
      ]
     },
     "execution_count": 20,
     "metadata": {},
     "output_type": "execute_result"
    }
   ],
   "source": [
    "tweet_df.sort_values(by='replies_count', ascending=False)"
   ]
  },
  {
   "cell_type": "code",
   "execution_count": 21,
   "id": "fb0c9d96-99e5-44f4-b14e-fffbf6e9199f",
   "metadata": {},
   "outputs": [
    {
     "data": {
      "text/plain": [
       "<AxesSubplot:ylabel='tweet'>"
      ]
     },
     "execution_count": 21,
     "metadata": {},
     "output_type": "execute_result"
    },
    {
     "name": "stderr",
     "output_type": "stream",
     "text": [
      "C:\\Users\\Usuario\\anaconda3\\lib\\site-packages\\matplotlib\\backends\\backend_agg.py:238: RuntimeWarning: Glyph 128142 missing from current font.\n",
      "  font.set_text(s, 0.0, flags=flags)\n",
      "C:\\Users\\Usuario\\anaconda3\\lib\\site-packages\\matplotlib\\backends\\backend_agg.py:238: RuntimeWarning: Glyph 128588 missing from current font.\n",
      "  font.set_text(s, 0.0, flags=flags)\n",
      "C:\\Users\\Usuario\\anaconda3\\lib\\site-packages\\matplotlib\\backends\\backend_agg.py:201: RuntimeWarning: Glyph 128142 missing from current font.\n",
      "  font.set_text(s, 0, flags=flags)\n",
      "C:\\Users\\Usuario\\anaconda3\\lib\\site-packages\\matplotlib\\backends\\backend_agg.py:201: RuntimeWarning: Glyph 128588 missing from current font.\n",
      "  font.set_text(s, 0, flags=flags)\n"
     ]
    },
    {
     "data": {
      "image/png": "[encoded data removed]",
      "text/plain": [
       "<Figure size 432x288 with 1 Axes>"
      ]
     },
     "metadata": {
      "needs_background": "light"
     },
     "output_type": "display_data"
    }
   ],
   "source": [
    "tweet_df.sort_values(by='replies_count', ascending=False).head().plot.barh(y='replies_count', x=\"tweet\")\n"
   ]
  },
  {
   "cell_type": "code",
   "execution_count": 22,
   "id": "50f58fdd-b0d7-4c1c-a24c-2b4d7d07ca69",
   "metadata": {},
   "outputs": [
    {
     "data": {
      "image/png": "[encoded data removed]",
      "text/plain": [
       "<Figure size 432x288 with 1 Axes>"
      ]
     },
     "metadata": {
      "needs_background": "light"
     },
     "output_type": "display_data"
    }
   ],
   "source": [
    "tweet_df.sort_values(by='replies_count', ascending=False).head().plot.barh(y='replies_count', x=\"date\")\n",
    "tweets_most_replied = tweet_df.sort_values(by='replies_count', ascending=False).head()"
   ]
  },
  {
   "cell_type": "markdown",
   "id": "f9b5c6a2-cb00-49c8-a5d7-728518932ad0",
   "metadata": {},
   "source": [
    "# ¿Cuales fueron sus tweets más gustados?"
   ]
  },
  {
   "cell_type": "code",
   "execution_count": 23,
   "id": "7e2dc5ad-48cd-46ac-9664-347fc5eec0ef",
   "metadata": {},
   "outputs": [
    {
     "data": {
      "text/html": [
       "<div>\n",
       "<style scoped>\n",
       "    .dataframe tbody tr th:only-of-type {\n",
       "        vertical-align: middle;\n",
       "    }\n",
       "\n",
       "    .dataframe tbody tr th {\n",
       "        vertical-align: top;\n",
       "    }\n",
       "\n",
       "    .dataframe thead th {\n",
       "        text-align: right;\n",
       "    }\n",
       "</style>\n",
       "<table border=\"1\" class=\"dataframe\">\n",
       "  <thead>\n",
       "    <tr style=\"text-align: right;\">\n",
       "      <th></th>\n",
       "      <th>id</th>\n",
       "      <th>date</th>\n",
       "      <th>time</th>\n",
       "      <th>tweet</th>\n",
       "      <th>replies_count</th>\n",
       "      <th>retweets_count</th>\n",
       "      <th>likes_count</th>\n",
       "    </tr>\n",
       "  </thead>\n",
       "  <tbody>\n",
       "    <tr>\n",
       "      <th>1437</th>\n",
       "      <td>1236029449042198528</td>\n",
       "      <td>2020-03-06</td>\n",
       "      <td>20</td>\n",
       "      <td>The coronavirus panic is dumb</td>\n",
       "      <td>45460</td>\n",
       "      <td>328882</td>\n",
       "      <td>1682551</td>\n",
       "    </tr>\n",
       "    <tr>\n",
       "      <th>5339</th>\n",
       "      <td>1053390822991790083</td>\n",
       "      <td>2018-10-19</td>\n",
       "      <td>21</td>\n",
       "      <td>Had to been done ur welcome pic.twitter.com/7j...</td>\n",
       "      <td>18387</td>\n",
       "      <td>384289</td>\n",
       "      <td>1252708</td>\n",
       "    </tr>\n",
       "    <tr>\n",
       "      <th>2882</th>\n",
       "      <td>1357236825589432322</td>\n",
       "      <td>2021-02-04</td>\n",
       "      <td>11</td>\n",
       "      <td>ur welcome  https://t.co/e2KF57KLxb</td>\n",
       "      <td>22667</td>\n",
       "      <td>140044</td>\n",
       "      <td>963257</td>\n",
       "    </tr>\n",
       "    <tr>\n",
       "      <th>463</th>\n",
       "      <td>1266811094527508481</td>\n",
       "      <td>2020-05-30</td>\n",
       "      <td>19</td>\n",
       "      <td>5 mins to T-0</td>\n",
       "      <td>18610</td>\n",
       "      <td>56137</td>\n",
       "      <td>902284</td>\n",
       "    </tr>\n",
       "    <tr>\n",
       "      <th>3070</th>\n",
       "      <td>1347978218494513152</td>\n",
       "      <td>2021-01-09</td>\n",
       "      <td>22</td>\n",
       "      <td>My 14-year-old son, Saxon, said he feels like ...</td>\n",
       "      <td>27852</td>\n",
       "      <td>61885</td>\n",
       "      <td>892864</td>\n",
       "    </tr>\n",
       "    <tr>\n",
       "      <th>...</th>\n",
       "      <td>...</td>\n",
       "      <td>...</td>\n",
       "      <td>...</td>\n",
       "      <td>...</td>\n",
       "      <td>...</td>\n",
       "      <td>...</td>\n",
       "      <td>...</td>\n",
       "    </tr>\n",
       "    <tr>\n",
       "      <th>9100</th>\n",
       "      <td>653029223779557376</td>\n",
       "      <td>2015-10-11</td>\n",
       "      <td>2</td>\n",
       "      <td>@madolfsson roughly 5 days</td>\n",
       "      <td>3</td>\n",
       "      <td>4</td>\n",
       "      <td>43</td>\n",
       "    </tr>\n",
       "    <tr>\n",
       "      <th>9095</th>\n",
       "      <td>654405293959327744</td>\n",
       "      <td>2015-10-14</td>\n",
       "      <td>21</td>\n",
       "      <td>@roymoody Depends on regulatory approval, but ...</td>\n",
       "      <td>6</td>\n",
       "      <td>10</td>\n",
       "      <td>38</td>\n",
       "    </tr>\n",
       "    <tr>\n",
       "      <th>9222</th>\n",
       "      <td>587193821227651072</td>\n",
       "      <td>2015-04-12</td>\n",
       "      <td>10</td>\n",
       "      <td>@benfeldman63 Thanks!</td>\n",
       "      <td>2</td>\n",
       "      <td>5</td>\n",
       "      <td>34</td>\n",
       "    </tr>\n",
       "    <tr>\n",
       "      <th>9101</th>\n",
       "      <td>653028711768285184</td>\n",
       "      <td>2015-10-11</td>\n",
       "      <td>2</td>\n",
       "      <td>@MPa81 @bonnienorman same</td>\n",
       "      <td>3</td>\n",
       "      <td>3</td>\n",
       "      <td>34</td>\n",
       "    </tr>\n",
       "    <tr>\n",
       "      <th>9084</th>\n",
       "      <td>656971573337944065</td>\n",
       "      <td>2015-10-21</td>\n",
       "      <td>23</td>\n",
       "      <td>@ryybuzz we won't be, but yes</td>\n",
       "      <td>2</td>\n",
       "      <td>2</td>\n",
       "      <td>21</td>\n",
       "    </tr>\n",
       "  </tbody>\n",
       "</table>\n",
       "<p>12915 rows × 7 columns</p>\n",
       "</div>"
      ],
      "text/plain": [
       "                       id       date  time  \\\n",
       "1437  1236029449042198528 2020-03-06    20   \n",
       "5339  1053390822991790083 2018-10-19    21   \n",
       "2882  1357236825589432322 2021-02-04    11   \n",
       "463   1266811094527508481 2020-05-30    19   \n",
       "3070  1347978218494513152 2021-01-09    22   \n",
       "...                   ...        ...   ...   \n",
       "9100   653029223779557376 2015-10-11     2   \n",
       "9095   654405293959327744 2015-10-14    21   \n",
       "9222   587193821227651072 2015-04-12    10   \n",
       "9101   653028711768285184 2015-10-11     2   \n",
       "9084   656971573337944065 2015-10-21    23   \n",
       "\n",
       "                                                  tweet  replies_count  \\\n",
       "1437                      The coronavirus panic is dumb          45460   \n",
       "5339  Had to been done ur welcome pic.twitter.com/7j...          18387   \n",
       "2882                ur welcome  https://t.co/e2KF57KLxb          22667   \n",
       "463                                       5 mins to T-0          18610   \n",
       "3070  My 14-year-old son, Saxon, said he feels like ...          27852   \n",
       "...                                                 ...            ...   \n",
       "9100                         @madolfsson roughly 5 days              3   \n",
       "9095  @roymoody Depends on regulatory approval, but ...              6   \n",
       "9222                              @benfeldman63 Thanks!              2   \n",
       "9101                          @MPa81 @bonnienorman same              3   \n",
       "9084                      @ryybuzz we won't be, but yes              2   \n",
       "\n",
       "      retweets_count  likes_count  \n",
       "1437          328882      1682551  \n",
       "5339          384289      1252708  \n",
       "2882          140044       963257  \n",
       "463            56137       902284  \n",
       "3070           61885       892864  \n",
       "...              ...          ...  \n",
       "9100               4           43  \n",
       "9095              10           38  \n",
       "9222               5           34  \n",
       "9101               3           34  \n",
       "9084               2           21  \n",
       "\n",
       "[12915 rows x 7 columns]"
      ]
     },
     "execution_count": 23,
     "metadata": {},
     "output_type": "execute_result"
    }
   ],
   "source": [
    "tweet_df.sort_values(by='likes_count', ascending=False)"
   ]
  },
  {
   "cell_type": "code",
   "execution_count": 24,
   "id": "bec06e6c-0eb5-4f8d-bc26-61c2c668e230",
   "metadata": {},
   "outputs": [
    {
     "data": {
      "text/plain": [
       "<AxesSubplot:ylabel='tweet'>"
      ]
     },
     "execution_count": 24,
     "metadata": {},
     "output_type": "execute_result"
    },
    {
     "data": {
      "image/png": "[encoded data removed]",
      "text/plain": [
       "<Figure size 432x288 with 1 Axes>"
      ]
     },
     "metadata": {
      "needs_background": "light"
     },
     "output_type": "display_data"
    }
   ],
   "source": [
    "tweet_df.sort_values(by='likes_count', ascending=False).head().plot.barh(y='likes_count', x=\"tweet\")"
   ]
  },
  {
   "cell_type": "code",
   "execution_count": 25,
   "id": "70fb4013-bf36-428a-8ec7-9651efb6cfcb",
   "metadata": {
    "tags": []
   },
   "outputs": [
    {
     "data": {
      "text/plain": [
       "<AxesSubplot:ylabel='date'>"
      ]
     },
     "execution_count": 25,
     "metadata": {},
     "output_type": "execute_result"
    },
    {
     "data": {
      "image/png": "[encoded data removed]",
      "text/plain": [
       "<Figure size 432x288 with 1 Axes>"
      ]
     },
     "metadata": {
      "needs_background": "light"
     },
     "output_type": "display_data"
    }
   ],
   "source": [
    "tweet_df.sort_values(by='likes_count', ascending=False).head().plot.barh(y='likes_count', x=\"date\")"
   ]
  },
  {
   "cell_type": "markdown",
   "id": "6ec9b550-b40d-4730-9ecf-40e983004792",
   "metadata": {},
   "source": [
    "# ¿Cuales fueron sus publicaciones más retweeteadas?"
   ]
  },
  {
   "cell_type": "code",
   "execution_count": 26,
   "id": "19752b5d-f1ec-4166-88eb-24107d44fad2",
   "metadata": {},
   "outputs": [
    {
     "data": {
      "text/html": [
       "<div>\n",
       "<style scoped>\n",
       "    .dataframe tbody tr th:only-of-type {\n",
       "        vertical-align: middle;\n",
       "    }\n",
       "\n",
       "    .dataframe tbody tr th {\n",
       "        vertical-align: top;\n",
       "    }\n",
       "\n",
       "    .dataframe thead th {\n",
       "        text-align: right;\n",
       "    }\n",
       "</style>\n",
       "<table border=\"1\" class=\"dataframe\">\n",
       "  <thead>\n",
       "    <tr style=\"text-align: right;\">\n",
       "      <th></th>\n",
       "      <th>id</th>\n",
       "      <th>date</th>\n",
       "      <th>time</th>\n",
       "      <th>tweet</th>\n",
       "      <th>replies_count</th>\n",
       "      <th>retweets_count</th>\n",
       "      <th>likes_count</th>\n",
       "    </tr>\n",
       "  </thead>\n",
       "  <tbody>\n",
       "    <tr>\n",
       "      <th>5339</th>\n",
       "      <td>1053390822991790083</td>\n",
       "      <td>2018-10-19</td>\n",
       "      <td>21</td>\n",
       "      <td>Had to been done ur welcome pic.twitter.com/7j...</td>\n",
       "      <td>18387</td>\n",
       "      <td>384289</td>\n",
       "      <td>1252708</td>\n",
       "    </tr>\n",
       "    <tr>\n",
       "      <th>1437</th>\n",
       "      <td>1236029449042198528</td>\n",
       "      <td>2020-03-06</td>\n",
       "      <td>20</td>\n",
       "      <td>The coronavirus panic is dumb</td>\n",
       "      <td>45460</td>\n",
       "      <td>328882</td>\n",
       "      <td>1682551</td>\n",
       "    </tr>\n",
       "    <tr>\n",
       "      <th>7788</th>\n",
       "      <td>870369915894546432</td>\n",
       "      <td>2017-06-01</td>\n",
       "      <td>20</td>\n",
       "      <td>Am departing presidential councils. Climate ch...</td>\n",
       "      <td>26151</td>\n",
       "      <td>206708</td>\n",
       "      <td>502853</td>\n",
       "    </tr>\n",
       "    <tr>\n",
       "      <th>2079</th>\n",
       "      <td>1205030950750412800</td>\n",
       "      <td>2019-12-12</td>\n",
       "      <td>7</td>\n",
       "      <td>If life is a video game, the graphics are grea...</td>\n",
       "      <td>10856</td>\n",
       "      <td>178771</td>\n",
       "      <td>773835</td>\n",
       "    </tr>\n",
       "    <tr>\n",
       "      <th>3143</th>\n",
       "      <td>1153078534916587520</td>\n",
       "      <td>2019-07-21</td>\n",
       "      <td>23</td>\n",
       "      <td>Technically, alcohol is a solution</td>\n",
       "      <td>6175</td>\n",
       "      <td>169152</td>\n",
       "      <td>611862</td>\n",
       "    </tr>\n",
       "    <tr>\n",
       "      <th>...</th>\n",
       "      <td>...</td>\n",
       "      <td>...</td>\n",
       "      <td>...</td>\n",
       "      <td>...</td>\n",
       "      <td>...</td>\n",
       "      <td>...</td>\n",
       "      <td>...</td>\n",
       "    </tr>\n",
       "    <tr>\n",
       "      <th>8592</th>\n",
       "      <td>753795303170420736</td>\n",
       "      <td>2016-07-15</td>\n",
       "      <td>3</td>\n",
       "      <td>yes</td>\n",
       "      <td>12</td>\n",
       "      <td>1</td>\n",
       "      <td>89</td>\n",
       "    </tr>\n",
       "    <tr>\n",
       "      <th>7733</th>\n",
       "      <td>872893699511865345</td>\n",
       "      <td>2017-06-08</td>\n",
       "      <td>19</td>\n",
       "      <td>Not yet</td>\n",
       "      <td>3</td>\n",
       "      <td>0</td>\n",
       "      <td>116</td>\n",
       "    </tr>\n",
       "    <tr>\n",
       "      <th>8619</th>\n",
       "      <td>752195886990569473</td>\n",
       "      <td>2016-07-10</td>\n",
       "      <td>17</td>\n",
       "      <td>exactly</td>\n",
       "      <td>0</td>\n",
       "      <td>0</td>\n",
       "      <td>77</td>\n",
       "    </tr>\n",
       "    <tr>\n",
       "      <th>7744</th>\n",
       "      <td>872869542376030208</td>\n",
       "      <td>2017-06-08</td>\n",
       "      <td>17</td>\n",
       "      <td>Yeah</td>\n",
       "      <td>4</td>\n",
       "      <td>0</td>\n",
       "      <td>134</td>\n",
       "    </tr>\n",
       "    <tr>\n",
       "      <th>7721</th>\n",
       "      <td>872907817258070016</td>\n",
       "      <td>2017-06-08</td>\n",
       "      <td>20</td>\n",
       "      <td>Cool</td>\n",
       "      <td>27</td>\n",
       "      <td>0</td>\n",
       "      <td>137</td>\n",
       "    </tr>\n",
       "  </tbody>\n",
       "</table>\n",
       "<p>12915 rows × 7 columns</p>\n",
       "</div>"
      ],
      "text/plain": [
       "                       id       date  time  \\\n",
       "5339  1053390822991790083 2018-10-19    21   \n",
       "1437  1236029449042198528 2020-03-06    20   \n",
       "7788   870369915894546432 2017-06-01    20   \n",
       "2079  1205030950750412800 2019-12-12     7   \n",
       "3143  1153078534916587520 2019-07-21    23   \n",
       "...                   ...        ...   ...   \n",
       "8592   753795303170420736 2016-07-15     3   \n",
       "7733   872893699511865345 2017-06-08    19   \n",
       "8619   752195886990569473 2016-07-10    17   \n",
       "7744   872869542376030208 2017-06-08    17   \n",
       "7721   872907817258070016 2017-06-08    20   \n",
       "\n",
       "                                                  tweet  replies_count  \\\n",
       "5339  Had to been done ur welcome pic.twitter.com/7j...          18387   \n",
       "1437                      The coronavirus panic is dumb          45460   \n",
       "7788  Am departing presidential councils. Climate ch...          26151   \n",
       "2079  If life is a video game, the graphics are grea...          10856   \n",
       "3143                 Technically, alcohol is a solution           6175   \n",
       "...                                                 ...            ...   \n",
       "8592                                                yes             12   \n",
       "7733                                            Not yet              3   \n",
       "8619                                            exactly              0   \n",
       "7744                                               Yeah              4   \n",
       "7721                                               Cool             27   \n",
       "\n",
       "      retweets_count  likes_count  \n",
       "5339          384289      1252708  \n",
       "1437          328882      1682551  \n",
       "7788          206708       502853  \n",
       "2079          178771       773835  \n",
       "3143          169152       611862  \n",
       "...              ...          ...  \n",
       "8592               1           89  \n",
       "7733               0          116  \n",
       "8619               0           77  \n",
       "7744               0          134  \n",
       "7721               0          137  \n",
       "\n",
       "[12915 rows x 7 columns]"
      ]
     },
     "execution_count": 26,
     "metadata": {},
     "output_type": "execute_result"
    }
   ],
   "source": [
    "tweet_df.sort_values(by='retweets_count', ascending=False)"
   ]
  },
  {
   "cell_type": "code",
   "execution_count": 27,
   "id": "a0098529-28d1-416b-82ce-cbd7db79b327",
   "metadata": {},
   "outputs": [
    {
     "data": {
      "text/plain": [
       "<AxesSubplot:ylabel='tweet'>"
      ]
     },
     "execution_count": 27,
     "metadata": {},
     "output_type": "execute_result"
    },
    {
     "data": {
      "image/png": "[encoded data removed]",
      "text/plain": [
       "<Figure size 432x288 with 1 Axes>"
      ]
     },
     "metadata": {
      "needs_background": "light"
     },
     "output_type": "display_data"
    }
   ],
   "source": [
    "tweet_df.sort_values(by='retweets_count', ascending=False).head().plot.barh(y='retweets_count', x=\"tweet\")"
   ]
  },
  {
   "cell_type": "code",
   "execution_count": 28,
   "id": "027dab86-f40b-49d1-ba18-dcdc4874996c",
   "metadata": {
    "tags": []
   },
   "outputs": [
    {
     "data": {
      "text/plain": [
       "<AxesSubplot:ylabel='date'>"
      ]
     },
     "execution_count": 28,
     "metadata": {},
     "output_type": "execute_result"
    },
    {
     "data": {
      "image/png": "[encoded data removed]",
      "text/plain": [
       "<Figure size 432x288 with 1 Axes>"
      ]
     },
     "metadata": {
      "needs_background": "light"
     },
     "output_type": "display_data"
    }
   ],
   "source": [
    "tweet_df.sort_values(by='retweets_count', ascending=False).head().plot.barh(y='retweets_count', x=\"date\")"
   ]
  },
  {
   "cell_type": "markdown",
   "id": "93081756-e88c-4d08-a104-e3bc2771f93a",
   "metadata": {},
   "source": [
    "# ¿A qué horas tweetea Elon?"
   ]
  },
  {
   "cell_type": "code",
   "execution_count": 29,
   "id": "3d7b098a-7516-4196-9e5b-54f76ef894d7",
   "metadata": {},
   "outputs": [],
   "source": [
    "tweet_times = tweet_df['time'].value_counts()"
   ]
  },
  {
   "cell_type": "code",
   "execution_count": 30,
   "id": "22ade178-f017-43f3-8134-acb685048326",
   "metadata": {},
   "outputs": [
    {
     "data": {
      "text/plain": [
       "0     717\n",
       "1     713\n",
       "2     630\n",
       "3     597\n",
       "4     598\n",
       "5     617\n",
       "6     553\n",
       "7     560\n",
       "8     497\n",
       "9     369\n",
       "10    296\n",
       "11    227\n",
       "12    223\n",
       "13    150\n",
       "14    259\n",
       "15    356\n",
       "16    505\n",
       "17    623\n",
       "18    709\n",
       "19    721\n",
       "20    692\n",
       "21    732\n",
       "22    853\n",
       "23    718\n",
       "Name: time, dtype: int64"
      ]
     },
     "execution_count": 30,
     "metadata": {},
     "output_type": "execute_result"
    }
   ],
   "source": [
    "tweet_times.sort_index()"
   ]
  },
  {
   "cell_type": "code",
   "execution_count": 31,
   "id": "6615d16f-1ad3-4ca6-a427-b6a0179612f2",
   "metadata": {},
   "outputs": [
    {
     "data": {
      "text/plain": [
       "<AxesSubplot:>"
      ]
     },
     "execution_count": 31,
     "metadata": {},
     "output_type": "execute_result"
    },
    {
     "data": {
      "image/png": "[encoded data removed]",
      "text/plain": [
       "<Figure size 432x288 with 1 Axes>"
      ]
     },
     "metadata": {
      "needs_background": "light"
     },
     "output_type": "display_data"
    }
   ],
   "source": [
    "tweet_times.sort_index().plot.bar(x='time')"
   ]
  },
  {
   "cell_type": "markdown",
   "id": "6db082c8-0f71-4109-a30e-70b117ec6f60",
   "metadata": {},
   "source": [
    "# Relación con DogeCoin"
   ]
  },
  {
   "cell_type": "code",
   "execution_count": 32,
   "id": "3964e9a2-4885-43d3-85dc-fc0f29c06f01",
   "metadata": {},
   "outputs": [],
   "source": [
    "doge_df=pd.read_csv('datasets/DOGE-USD.csv')"
   ]
  },
  {
   "cell_type": "code",
   "execution_count": 33,
   "id": "5378ef53-f21a-4d01-a394-9cc547a1dd77",
   "metadata": {},
   "outputs": [],
   "source": [
    "doge_df = doge_df.drop(['Close','Volume','High','Low'],axis=1)"
   ]
  },
  {
   "cell_type": "code",
   "execution_count": 34,
   "id": "6c8aa2de-e4fa-4222-90a8-c269628aa011",
   "metadata": {},
   "outputs": [],
   "source": [
    "doge_df = doge_df.rename(columns={'Date': 'date', 'Open': 'open'})"
   ]
  },
  {
   "cell_type": "code",
   "execution_count": 35,
   "id": "e2ccc690-d9a1-4324-a1eb-3eaf82585145",
   "metadata": {},
   "outputs": [
    {
     "data": {
      "text/plain": [
       "0      2017-11-09\n",
       "1      2017-11-10\n",
       "2      2017-11-11\n",
       "3      2017-11-12\n",
       "4      2017-11-13\n",
       "          ...    \n",
       "1527   2022-01-14\n",
       "1528   2022-01-15\n",
       "1529   2022-01-16\n",
       "1530   2022-01-17\n",
       "1531   2022-01-18\n",
       "Name: date, Length: 1532, dtype: datetime64[ns]"
      ]
     },
     "execution_count": 35,
     "metadata": {},
     "output_type": "execute_result"
    }
   ],
   "source": [
    "doge_df['date']= pd.to_datetime(doge_df[\"date\"])\n",
    "doge_df['date']"
   ]
  },
  {
   "cell_type": "code",
   "execution_count": 38,
   "id": "913bdeb5-061a-4dd7-9e1e-123ceabff38c",
   "metadata": {},
   "outputs": [
    {
     "data": {
      "text/html": [
       "<div>\n",
       "<style scoped>\n",
       "    .dataframe tbody tr th:only-of-type {\n",
       "        vertical-align: middle;\n",
       "    }\n",
       "\n",
       "    .dataframe tbody tr th {\n",
       "        vertical-align: top;\n",
       "    }\n",
       "\n",
       "    .dataframe thead th {\n",
       "        text-align: right;\n",
       "    }\n",
       "</style>\n",
       "<table border=\"1\" class=\"dataframe\">\n",
       "  <thead>\n",
       "    <tr style=\"text-align: right;\">\n",
       "      <th></th>\n",
       "      <th>date</th>\n",
       "      <th>open</th>\n",
       "    </tr>\n",
       "  </thead>\n",
       "  <tbody>\n",
       "    <tr>\n",
       "      <th>0</th>\n",
       "      <td>2017-11-09</td>\n",
       "      <td>0.001207</td>\n",
       "    </tr>\n",
       "    <tr>\n",
       "      <th>1</th>\n",
       "      <td>2017-11-10</td>\n",
       "      <td>0.001421</td>\n",
       "    </tr>\n",
       "    <tr>\n",
       "      <th>2</th>\n",
       "      <td>2017-11-11</td>\n",
       "      <td>0.001146</td>\n",
       "    </tr>\n",
       "    <tr>\n",
       "      <th>3</th>\n",
       "      <td>2017-11-12</td>\n",
       "      <td>0.001189</td>\n",
       "    </tr>\n",
       "    <tr>\n",
       "      <th>4</th>\n",
       "      <td>2017-11-13</td>\n",
       "      <td>0.001046</td>\n",
       "    </tr>\n",
       "    <tr>\n",
       "      <th>...</th>\n",
       "      <td>...</td>\n",
       "      <td>...</td>\n",
       "    </tr>\n",
       "    <tr>\n",
       "      <th>1527</th>\n",
       "      <td>2022-01-14</td>\n",
       "      <td>0.172053</td>\n",
       "    </tr>\n",
       "    <tr>\n",
       "      <th>1528</th>\n",
       "      <td>2022-01-15</td>\n",
       "      <td>0.183644</td>\n",
       "    </tr>\n",
       "    <tr>\n",
       "      <th>1529</th>\n",
       "      <td>2022-01-16</td>\n",
       "      <td>0.185093</td>\n",
       "    </tr>\n",
       "    <tr>\n",
       "      <th>1530</th>\n",
       "      <td>2022-01-17</td>\n",
       "      <td>0.177187</td>\n",
       "    </tr>\n",
       "    <tr>\n",
       "      <th>1531</th>\n",
       "      <td>2022-01-18</td>\n",
       "      <td>0.171080</td>\n",
       "    </tr>\n",
       "  </tbody>\n",
       "</table>\n",
       "<p>1532 rows × 2 columns</p>\n",
       "</div>"
      ],
      "text/plain": [
       "           date      open\n",
       "0    2017-11-09  0.001207\n",
       "1    2017-11-10  0.001421\n",
       "2    2017-11-11  0.001146\n",
       "3    2017-11-12  0.001189\n",
       "4    2017-11-13  0.001046\n",
       "...         ...       ...\n",
       "1527 2022-01-14  0.172053\n",
       "1528 2022-01-15  0.183644\n",
       "1529 2022-01-16  0.185093\n",
       "1530 2022-01-17  0.177187\n",
       "1531 2022-01-18  0.171080\n",
       "\n",
       "[1532 rows x 2 columns]"
      ]
     },
     "execution_count": 38,
     "metadata": {},
     "output_type": "execute_result"
    }
   ],
   "source": [
    "doge_df"
   ]
  },
  {
   "cell_type": "code",
   "execution_count": 36,
   "id": "727680ec-8f7c-4b4a-b9cc-0d6cf3eeb55d",
   "metadata": {},
   "outputs": [
    {
     "data": {
      "text/html": [
       "<div>\n",
       "<style scoped>\n",
       "    .dataframe tbody tr th:only-of-type {\n",
       "        vertical-align: middle;\n",
       "    }\n",
       "\n",
       "    .dataframe tbody tr th {\n",
       "        vertical-align: top;\n",
       "    }\n",
       "\n",
       "    .dataframe thead th {\n",
       "        text-align: right;\n",
       "    }\n",
       "</style>\n",
       "<table border=\"1\" class=\"dataframe\">\n",
       "  <thead>\n",
       "    <tr style=\"text-align: right;\">\n",
       "      <th></th>\n",
       "      <th>id</th>\n",
       "      <th>date</th>\n",
       "      <th>time</th>\n",
       "      <th>tweet</th>\n",
       "      <th>replies_count</th>\n",
       "      <th>retweets_count</th>\n",
       "      <th>likes_count</th>\n",
       "    </tr>\n",
       "  </thead>\n",
       "  <tbody>\n",
       "    <tr>\n",
       "      <th>2141</th>\n",
       "      <td>1392602041025843203</td>\n",
       "      <td>2021-05-13</td>\n",
       "      <td>2</td>\n",
       "      <td>Tesla &amp;amp; Bitcoin  https://t.co/YSswJmVZhP</td>\n",
       "      <td>120523</td>\n",
       "      <td>73792</td>\n",
       "      <td>491785</td>\n",
       "    </tr>\n",
       "    <tr>\n",
       "      <th>2151</th>\n",
       "      <td>1392030108274159619</td>\n",
       "      <td>2021-05-11</td>\n",
       "      <td>12</td>\n",
       "      <td>Do you want Tesla to accept Doge?</td>\n",
       "      <td>96563</td>\n",
       "      <td>94898</td>\n",
       "      <td>392471</td>\n",
       "    </tr>\n",
       "    <tr>\n",
       "      <th>2095</th>\n",
       "      <td>1395328697436033032</td>\n",
       "      <td>2021-05-20</td>\n",
       "      <td>14</td>\n",
       "      <td>How much is that Doge in the window?  https://...</td>\n",
       "      <td>70818</td>\n",
       "      <td>52441</td>\n",
       "      <td>302873</td>\n",
       "    </tr>\n",
       "    <tr>\n",
       "      <th>2103</th>\n",
       "      <td>1395027147161489412</td>\n",
       "      <td>2021-05-19</td>\n",
       "      <td>18</td>\n",
       "      <td>Tesla has 💎 🙌</td>\n",
       "      <td>68672</td>\n",
       "      <td>55180</td>\n",
       "      <td>452335</td>\n",
       "    </tr>\n",
       "    <tr>\n",
       "      <th>2182</th>\n",
       "      <td>1390387635961610242</td>\n",
       "      <td>2021-05-06</td>\n",
       "      <td>23</td>\n",
       "      <td>Make humanity a multiplanet species!</td>\n",
       "      <td>66264</td>\n",
       "      <td>60063</td>\n",
       "      <td>606101</td>\n",
       "    </tr>\n",
       "  </tbody>\n",
       "</table>\n",
       "</div>"
      ],
      "text/plain": [
       "                       id       date  time  \\\n",
       "2141  1392602041025843203 2021-05-13     2   \n",
       "2151  1392030108274159619 2021-05-11    12   \n",
       "2095  1395328697436033032 2021-05-20    14   \n",
       "2103  1395027147161489412 2021-05-19    18   \n",
       "2182  1390387635961610242 2021-05-06    23   \n",
       "\n",
       "                                                  tweet  replies_count  \\\n",
       "2141       Tesla &amp; Bitcoin  https://t.co/YSswJmVZhP         120523   \n",
       "2151                  Do you want Tesla to accept Doge?          96563   \n",
       "2095  How much is that Doge in the window?  https://...          70818   \n",
       "2103                                      Tesla has 💎 🙌          68672   \n",
       "2182               Make humanity a multiplanet species!          66264   \n",
       "\n",
       "      retweets_count  likes_count  \n",
       "2141           73792       491785  \n",
       "2151           94898       392471  \n",
       "2095           52441       302873  \n",
       "2103           55180       452335  \n",
       "2182           60063       606101  "
      ]
     },
     "execution_count": 36,
     "metadata": {},
     "output_type": "execute_result"
    }
   ],
   "source": [
    "tweets_most_replied"
   ]
  },
  {
   "cell_type": "code",
   "execution_count": 37,
   "id": "43aee0db-e9fa-4473-8da7-cad4c8dffdb2",
   "metadata": {},
   "outputs": [
    {
     "data": {
      "image/png": "[encoded data removed]",
      "text/plain": [
       "<Figure size 1440x720 with 1 Axes>"
      ]
     },
     "metadata": {
      "needs_background": "light"
     },
     "output_type": "display_data"
    }
   ],
   "source": [
    "#Generar una grafica con precio de DogeCoin con la fecha de los tweets mas respondidos de Elon, las fechas de los tweets estan marcadas con plt.axvline\n",
    "\n",
    "import datetime as dt\n",
    "\n",
    "plt.figure(figsize=(20,10))\n",
    "\n",
    "plt.plot(doge_df.date,doge_df.open,marker='o',ls='-',lw=3,ms=12,mew=1,alpha=.7)\n",
    "\n",
    "for date in tweets_most_replied.date:\n",
    "    plt.axvline(x=date, color='k', linestyle='--',marker='.',ls='-',lw=1,ms=1,mew=1,alpha=.5)\n",
    "    \n",
    "plt.xlabel('Date',fontsize = 25)\n",
    "plt.ylabel('USD',fontsize = 25)\n",
    "plt.grid(color='k', linestyle='-', linewidth=1.8,alpha=0.5)\n",
    "plt.tick_params(axis='x', which='major', rotation=90)\n",
    "plt.tick_params(axis='y', which='major')\n",
    "plt.title(\"Dogecoin Open Market 2018-2022\",fontsize = 30,pad=20);\n",
    "plt.legend(['Open']);"
   ]
  }
 ],
 "metadata": {
  "kernelspec": {
   "display_name": "Python 3",
   "language": "python",
   "name": "python3"
  },
  "language_info": {
   "codemirror_mode": {
    "name": "ipython",
    "version": 3
   },
   "file_extension": ".py",
   "mimetype": "text/x-python",
   "name": "python",
   "nbconvert_exporter": "python",
   "pygments_lexer": "ipython3",
   "version": "3.8.8"
  }
 },
 "nbformat": 4,
 "nbformat_minor": 5
}
